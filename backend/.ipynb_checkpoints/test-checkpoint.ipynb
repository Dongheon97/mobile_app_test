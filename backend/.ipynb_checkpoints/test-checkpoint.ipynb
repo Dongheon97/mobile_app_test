{
 "cells": [
  {
   "cell_type": "markdown",
   "metadata": {},
   "source": [
    "# Contour Line"
   ]
  },
  {
   "cell_type": "code",
   "execution_count": null,
   "metadata": {},
   "outputs": [],
   "source": [
    "import cv2\n",
    "\n",
    "path = os.path.join('img', '7.PNG')\n",
    "src = cv2.imread(path)\n",
    "\n",
    "gray = cv2.cvtColor(src, cv2.COLOR_BGR2GRAY)\n",
    "ret, imthres = cv2.threshold(gray, 80, 255, cv2.THRESH_BINARY_INV)\n",
    "\n",
    "\n",
    "'''\n",
    "contours, hierarchy = cv2.findContours(imthres, cv2.RETR_EXTERNAL, cv2.CHAIN_APPROX_SIMPLE)\n",
    "for contour in contours:\n",
    "      src = cv2.drawContours(src, [contour], -1, (0, 255, 0), 2)\n",
    "'''\n",
    "    \n",
    "contours, hierarchy = cv2.findContours(imthres, cv2.RETR_TREE, cv2.CHAIN_APPROX_NONE)\n",
    "\n",
    "print(hierarchy)\n",
    "for contour in contours:\n",
    "      src = cv2.drawContours(src, [contour], -1, (0, 255, 0), 2)\n",
    "    \n",
    "\n",
    "cv2.imshow('dst', src)\n",
    "\n",
    "cv2.waitKey(0)\n",
    "cv2.destroyAllWindows()"
   ]
  },
  {
   "cell_type": "markdown",
   "metadata": {},
   "source": [
    "# Video Streaming"
   ]
  },
  {
   "cell_type": "code",
   "execution_count": null,
   "metadata": {},
   "outputs": [],
   "source": [
    "import cv2\n",
    "\n",
    "#url = \"usb-0000:00:14.0-3.1\"\n",
    "#cap = cv2.VideoCapture(url) <S-F12>V4L2:/dev/video0\n",
    "cap = cv2.VideoCapture(0)\n",
    "\n",
    "# 해상도 변경\n",
    "cap.set(cv2.CAP_PROP_FRAME_WIDTH, 1280)\n",
    "cap.set(cv2.CAP_PROP_FRAME_HEIGHT, 720)\n",
    "cap.set(cv2.CAP_PROP_FPS, 60)\n",
    "\n",
    "while True:\n",
    "    ret, frame = cap.read()\n",
    "    cv2.imshow(\"video\", frame)\n",
    "    cv2.waitKey(1)\n"
   ]
  },
  {
   "cell_type": "markdown",
   "metadata": {},
   "source": [
    "# Image Processing"
   ]
  },
  {
   "cell_type": "code",
   "execution_count": 1,
   "metadata": {},
   "outputs": [
    {
     "name": "stdout",
     "output_type": "stream",
     "text": [
      "width:  1280\n",
      "height:  720\n"
     ]
    }
   ],
   "source": [
    "import cv2\n",
    "\n",
    "def reshape(input_gray):\n",
    "    h, w = input_gray.shape\n",
    "    print(\"width: \", w)\n",
    "    print(\"height: \", h)\n",
    "\n",
    "    w_start = 0\n",
    "    w_end = 0\n",
    "    for i in range(w):\n",
    "        if (input_gray[0][i] != 0):\n",
    "            w_start = i\n",
    "            break\n",
    "    for j in range(w):\n",
    "        if (input_gray[h-1][w-1-j] != 0):\n",
    "            w_end = w-1-j\n",
    "            break\n",
    "\n",
    "    return w_start, w_end\n",
    "\n",
    "\n",
    "def main():\n",
    "    cap = cv2.VideoCapture(0)\n",
    "\n",
    "    # 해상도 변경\n",
    "    cap.set(cv2.CAP_PROP_FRAME_WIDTH, 1280)\n",
    "    cap.set(cv2.CAP_PROP_FRAME_HEIGHT, 720)\n",
    "    cap.set(cv2.CAP_PROP_FPS, 60)\n",
    "\n",
    "    ret, src = cap.read()\n",
    "    h = src.shape[0]\n",
    "    w = src.shape[1]\n",
    "    clr = src.shape[2]\n",
    "    #cv2.imshow(\"src\", src)\n",
    "    #cv2.waitKey(0)\n",
    "    #cv2.destroyAllWindows()\n",
    "\n",
    "    gray = cv2.cvtColor(src, cv2.COLOR_BGR2GRAY)\n",
    "\n",
    "    # cutting image\n",
    "    w_start, w_end = reshape(gray)\n",
    "\n",
    "    dst = src[:, w_start:w_end]\n",
    "    '''\n",
    "    while True:\n",
    "        ret, frame = cap.read()\n",
    "        cv2.imshow(\"video\", frame)\n",
    "        cv2.waitKey(1)\n",
    "    '''\n",
    "    cv2.imshow(\"src\", src)\n",
    "    cv2.imshow(\"dst\", dst)\n",
    "    cv2.waitKey(0)\n",
    "    cv2.destroyAllWindows()\n",
    "\n",
    "    '''\n",
    "    cv2.imshow(\"Capture\", frame)\n",
    "    cv2.imshow(\"gray\", gray)\n",
    "    cv2.waitKey(0)\n",
    "    cv2.destroyAllWindows()\n",
    "    '''\n",
    "\n",
    "\n",
    "if __name__ == '__main__':\n",
    "    main()"
   ]
  },
  {
   "cell_type": "markdown",
   "metadata": {},
   "source": [
    "# test"
   ]
  },
  {
   "cell_type": "code",
   "execution_count": null,
   "metadata": {},
   "outputs": [],
   "source": [
    "import cv2\n",
    "\n",
    "cap = cv2.VideoCapture(0)\n",
    "# 해상도 변경\n",
    "cap.set(cv2.CAP_PROP_FRAME_WIDTH, 800)\n",
    "cap.set(cv2.CAP_PROP_FRAME_HEIGHT, 600)\n",
    "cap.set(cv2.CAP_PROP_FPS, 60)\n",
    "\n",
    "# 디스플레이에 맞는 크기 설정하기\n",
    "ret, src = cap.read()\n",
    "gray = cv2.cvtColor(src, cv2.COLOR_BGR2GRAY)\n",
    "\n",
    "h, w = gray.shape\n",
    "w_start = 0\n",
    "w_end = 0\n",
    "for i in range(w):\n",
    "    if (gray[0][i] != 0):\n",
    "        w_start = i\n",
    "        break\n",
    "for j in range(w):\n",
    "    if (gray[h-1][w-1-j] != 0):\n",
    "        w_end = w-1-j\n",
    "        break\n",
    "\n",
    "# streaming\n",
    "while True:\n",
    "    ret, frame = cap.read()\n",
    "    \n",
    "    # cutting image\n",
    "    dst = frame[:, w_start:w_end]\n",
    "    \n",
    "    cv2.imshow(\"video\", dst)\n",
    "    cv2.waitKey(1)\n",
    "\n",
    "'''\n",
    "cv2.imshow(\"src\", src)\n",
    "cv2.imshow(\"dst\", dst)\n",
    "cv2.waitKey(0)\n",
    "cv2.destroyAllWindows()\n",
    "'''"
   ]
  },
  {
   "cell_type": "code",
   "execution_count": null,
   "metadata": {},
   "outputs": [],
   "source": []
  },
  {
   "cell_type": "code",
   "execution_count": null,
   "metadata": {},
   "outputs": [],
   "source": []
  }
 ],
 "metadata": {
  "kernelspec": {
   "display_name": "Python 3 (ipykernel)",
   "language": "python",
   "name": "python3"
  },
  "language_info": {
   "codemirror_mode": {
    "name": "ipython",
    "version": 3
   },
   "file_extension": ".py",
   "mimetype": "text/x-python",
   "name": "python",
   "nbconvert_exporter": "python",
   "pygments_lexer": "ipython3",
   "version": "3.8.5"
  }
 },
 "nbformat": 4,
 "nbformat_minor": 4
}
